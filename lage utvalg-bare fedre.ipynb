{
 "cells": [
  {
   "cell_type": "code",
   "execution_count": 1,
   "metadata": {},
   "outputs": [],
   "source": [
    "import pandas as pd\n",
    "import numpy as np"
   ]
  },
  {
   "cell_type": "code",
   "execution_count": 2,
   "metadata": {},
   "outputs": [],
   "source": [
    "# kohort barn\n",
    "b0, b1 = 72, 80\n",
    "\n",
    "# kohort foreldre\n",
    "f0, f1 = 40, 58\n",
    "\n",
    "# Inntektstype, 1=samlet inntekt, 2=yrkes-og næringsinntekt, 3=pensjonsgivende inntekt \n",
    "inntekt = 1"
   ]
  },
  {
   "cell_type": "code",
   "execution_count": 3,
   "metadata": {},
   "outputs": [
    {
     "data": {
      "text/plain": [
       "Unnamed: 0\n",
       "2015    1.000000\n",
       "2014    1.021450\n",
       "2013    1.042753\n",
       "2012    1.064963\n",
       "2011    1.071811\n",
       "Name: Årsgj.snitt, dtype: float64"
      ]
     },
     "execution_count": 3,
     "metadata": {},
     "output_type": "execute_result"
    }
   ],
   "source": [
    "df = pd.read_csv('kpi.csv', header=0, sep=';')\n",
    "kpi = df[df.columns[1]]\n",
    "kpi.index = df[df.columns[0]]\n",
    "kpi = kpi[kpi.index <= 2015]\n",
    "kpi = kpi.str.replace(',','.')\n",
    "kpi = kpi.astype(float)\n",
    "kpi = 100 / kpi\n",
    "kpi.head()"
   ]
  },
  {
   "cell_type": "code",
   "execution_count": 4,
   "metadata": {},
   "outputs": [],
   "source": [
    "with open('test.txt', 'w') as f:\n",
    "    f.write('create-dataset barn \\n')\n",
    "    f.write('import BEFOLKNING_FOEDSELS_AAR_MND as fodmnd \\n')\n",
    "    f.write('generate kohort = int( fodmnd / 100 ) \\n')\n",
    "    f.write('drop if kohort > 19'+str(b1)+' | kohort < 19'+str(b0) + '\\n')\n",
    "    f.write('import BEFOLKNING_KJOENN as mann \\n')\n",
    "    f.write('destring mann, force \\n')\n",
    "    f.write('replace mann = 0 if mann == 2 \\n')\n",
    "    \n",
    "    f.write('import NUDB_KOMM_16 as bosted \\n')\n",
    "    f.write(f'destring bosted, force \\n')\n",
    "    f.write('drop if bosted < 100 | bosted > 2200 \\n')\n",
    "    f.write('drop if sysmiss(bosted) \\n')\n",
    "\n",
    "    for år in range(2,9+1):\n",
    "        f.write('import BEFOLKNING_REGSTAT 200'+str(år)+'-01-01 as regstat0'+str(år)+'\\n')\n",
    "    for år in range(10,15+1):\n",
    "        f.write('import BEFOLKNING_REGSTAT 20'+str(år)+'-01-01 as regstat'+str(år)+'\\n')\n",
    "    \n",
    "    for kohort in range(b0, b1+1):\n",
    "        string = 'drop if ('\n",
    "        for år in range(kohort+31, kohort+35):\n",
    "            string += f\"(regstat{str(år)[1:]} != '1') | \"\n",
    "        string += f\"(regstat{str(kohort+35)[1:]} != '1')) & kohort == 19{kohort} \\n\"\n",
    "        f.write(string)\n",
    "    f.write('tabulate kohort \\n')\n",
    "            \n",
    "    for år in range(2002, 2015+1):\n",
    "        if inntekt == 1:\n",
    "            f.write('import INNTEKT_WSAMINNT_KORRIGERT '+str(år)+'-01-01 as i'+str(år)[2:]+'\\n')\n",
    "        elif inntekt == 2:\n",
    "            f.write('import INNTEKT_WYRKINNT '+str(år)+'-01-01 as i'+str(år)[2:]+'\\n')\n",
    "        elif inntekt == 3:\n",
    "            f.write('import INNTEKT_PGIVINNT '+str(år)+'-01-01 as i'+str(år)[2:]+'\\n')\n",
    "        f.write(f'replace i{str(år)[2:]} = 0 if i{str(år)[2:]} < 0 | sysmiss(i{str(år)[2:]}) \\n')\n",
    "        f.write('generate i'+str(år)[2:]+'ij = i'+str(år)[2:]+'*'+f'{kpi[år]:.4f}\\n')\n",
    "\n",
    "    inntekter = ['innt31', 'innt32', 'innt33','innt34','innt35']\n",
    "    for inntår in inntekter:\n",
    "        f.write(f'generate {inntår} = 0 \\n')\n",
    "    \n",
    "    for kohort in range(b0, b1+1):\n",
    "        f.write('replace innt31 = i'+str(kohort+31)[1:]+'ij if kohort == 19'+str(kohort)+'\\n')\n",
    "        f.write('replace innt32 = i'+str(kohort+32)[1:]+'ij if kohort == 19'+str(kohort)+'\\n')\n",
    "        f.write('replace innt33 = i'+str(kohort+33)[1:]+'ij if kohort == 19'+str(kohort)+'\\n')\n",
    "        f.write('replace innt34 = i'+str(kohort+34)[1:]+'ij if kohort == 19'+str(kohort)+'\\n')\n",
    "        f.write('replace innt35 = i'+str(kohort+35)[1:]+'ij if kohort == 19'+str(kohort)+'\\n')\n",
    "    f.write('generate inntekt_barn = (innt31 + innt32 + innt33 + innt34 + innt35) / 5 \\n')\n",
    "    f.write('tabulate kohort \\n')\n",
    "    f.write('import BEFOLKNING_FAR_FNR as far_fnr \\n')"
   ]
  },
  {
   "cell_type": "markdown",
   "metadata": {},
   "source": [
    "#####  Fedre"
   ]
  },
  {
   "cell_type": "code",
   "execution_count": 5,
   "metadata": {},
   "outputs": [],
   "source": [
    "with open('test.txt', 'a+') as f:\n",
    "    f.write('create-dataset far \\n')\n",
    "    f.write('import BEFOLKNING_FOEDSELS_AAR_MND as fodmnd \\n')\n",
    "    f.write('generate kohortf = int( fodmnd / 100 ) \\n')\n",
    "    f.write('drop if kohortf > 19'+str(f1)+'| kohortf < 19'+str(f0)+' \\n')\n",
    "    f.write('import BEFOLKNING_KJOENN as mann \\n')\n",
    "    f.write(\"drop if mann == '2' \\n\")\n",
    "    for år in range(93,98+1):\n",
    "        f.write('import BEFOLKNING_REGSTAT 19'+str(år)+'-01-01 as regstat'+str(år)+'\\n')\n",
    "    for år in range(93,98+1):\n",
    "        f.write('drop if regstat'+str(år) + \" != '1' \\n\")\n",
    "        \n",
    "    for år in range(1993, 1998+1):\n",
    "        if inntekt == 1:\n",
    "            f.write('import INNTEKT_WSAMINNT_KORRIGERT '+str(år)+'-01-01 as if'+str(år)[2:]+'\\n')\n",
    "        elif inntekt == 2:\n",
    "            f.write('import INNTEKT_WYRKINNT '+str(år)+'-01-01 as if'+str(år)[2:]+'\\n')\n",
    "        elif inntekt == 3:\n",
    "            f.write('import INNTEKT_PGIVINNT '+str(år)+'-01-01 as if'+str(år)[2:]+'\\n') \n",
    "        f.write(f'replace if{str(år)[2:]} = 0 if (if{str(år)[2:]} < 0) | sysmiss(if{str(år)[2:]}) \\n')\n",
    "        f.write('generate if'+str(år)[2:]+'ij = if'+str(år)[2:]+'*'+f'{kpi[år]:.4f}\\n')\n",
    "    f.write('generate inntekt_far = (if93ij + if94ij + if95ij + if96ij + if97ij + if98ij) / 6 \\n')\n",
    "    f.write('generate prosentil_far = quantile(inntekt_far,100) \\n')\n",
    "    f.write('generate kvintil_far = quantile(inntekt_far,5) \\n')\n",
    "\n",
    "    f.write('merge inntekt_far prosentil_far kvintil_far kohortf into barn on far_fnr \\n')"
   ]
  },
  {
   "cell_type": "markdown",
   "metadata": {},
   "source": [
    "##### nasjonal"
   ]
  },
  {
   "cell_type": "code",
   "execution_count": 6,
   "metadata": {},
   "outputs": [],
   "source": [
    "with open('test.txt', 'a+') as f:\n",
    "    f.write('use barn \\n')\n",
    "    f.write('drop if sysmiss(inntekt_far) | inntekt_far <= 0 \\n')\n",
    "    f.write('tabulate kohort \\n')\n",
    "    f.write('generate alder_fodsel = kohort-kohortf \\n')\n",
    "    f.write('summarize alder_fodsel \\n')\n",
    "    f.write('tabulate kohort, summarize(alder_fodsel) \\n')\n",
    "    f.write('generate alder_inntekt = 1993-kohortf \\n')\n",
    "    f.write('tabulate kohort, summarize(alder_inntekt) \\n')\n",
    "    \n",
    "    \n",
    "    f.write('generate log_inntekt_barn = ln(inntekt_barn) \\n')\n",
    "    f.write('generate log_inntekt_far = ln(inntekt_far) \\n')\n",
    "    \n",
    "    f.write('generate prosentil_barn = quantile(inntekt_barn,100) \\n')\n",
    "    f.write('generate kvintil_barn = quantile(inntekt_barn,5) \\n')\n",
    "    f.write('generate topp_kvintil = kvintil_barn==4 \\n')\n",
    "    f.write('tabulate kvintil_barn kvintil_far, colpct \\n')\n",
    "    \n",
    "    f.write('tabulate prosentil_far, summarize(inntekt_far) \\n')\n",
    "    f.write('tabulate prosentil_far, summarize(inntekt_barn) \\n')\n",
    "    f.write('tabulate prosentil_far, summarize(log_inntekt_far) \\n')\n",
    "    f.write('tabulate prosentil_far, summarize(log_inntekt_barn) \\n')\n",
    "    f.write('tabulate prosentil_far, summarize(prosentil_barn) \\n')\n",
    "    f.write('tabulate prosentil_far if mann == 1, summarize(prosentil_barn)  \\n')\n",
    "    f.write('tabulate prosentil_far if mann == 0, summarize(prosentil_barn) \\n')\n",
    "    \n",
    "    f.write('regress log_inntekt_barn log_inntekt_far \\n')\n",
    "    f.write('regress log_inntekt_barn log_inntekt_far if mann ==1 \\n')\n",
    "    f.write('regress log_inntekt_barn log_inntekt_far if mann == 0  \\n')\n",
    "    f.write('regress prosentil_barn prosentil_far  \\n')\n",
    "    f.write('regress prosentil_barn prosentil_far if mann == 1 \\n')\n",
    "    f.write('regress prosentil_barn prosentil_far if mann == 0 \\n')\n",
    "    f.write('regress inntekt_barn inntekt_far if prosentil_far <90 \\n')\n",
    "    f.write('regress inntekt_barn inntekt_far if prosentil_far >=90 \\n')"
   ]
  },
  {
   "cell_type": "raw",
   "metadata": {},
   "source": [
    "with open('test.txt', 'a+') as f:\n",
    "    f.write('use barn \\n')\n",
    "    f.write('drop if sysmiss(inntekt_far) | inntekt_far <= 0 \\n')    \n",
    "    \n",
    "    f.write('generate log_inntekt_barn = ln(inntekt_barn) \\n')\n",
    "    f.write('generate log_inntekt_far = ln(inntekt_far) \\n')\n",
    "    \n",
    "    f.write('generate prosentil_barn = quantile(inntekt_barn,100) \\n')\n",
    "    \n",
    "    f.write('regress prosentil_barn prosentil_far \\n')\n",
    "    f.write('regress prosentil_barn prosentil_far if mann == 1 \\n')\n",
    "    f.write('regress prosentil_barn prosentil_far if mann == 0 \\n')\n",
    "    f.write('correlate prosentil_barn prosentil_far \\n')\n",
    "    f.write('regress inntekt_barn inntekt_far if prosentil_far <90 \\n')\n",
    "    f.write('regress inntekt_barn inntekt_far if prosentil_far >=90 \\n')\n",
    "    \n",
    "    f.write('regress log_inntekt_barn log_inntekt_far if (prosentil_far > 10) & (prosentil_far < 90) \\n')\n"
   ]
  },
  {
   "cell_type": "markdown",
   "metadata": {},
   "source": [
    "#### geografi"
   ]
  },
  {
   "cell_type": "markdown",
   "metadata": {},
   "source": [
    "##### økonomiske region"
   ]
  },
  {
   "cell_type": "code",
   "execution_count": 7,
   "metadata": {},
   "outputs": [],
   "source": [
    "with open('test.txt', 'a+') as f:\n",
    "    f.write('replace bosted = 701 if (bosted == 717 ) | (bosted == 703 ) \\n')\n",
    "    f.write('replace bosted = 704 if (bosted == 721) | (bosted == 705 ) \\n')\n",
    "    f.write('replace bosted = 709 if (bosted == 727) | (bosted == 726 ) | (bosted == 725 ) | (bosted == 708 ) | (bosted == 707)\\n')\n",
    "    f.write('replace bosted = 105 if (bosted == 130) | (bosted ==  115) | (bosted == 114) | (bosted == 102) \\n')\n",
    "    f.write('replace bosted = 106 if (bosted == 103) | (bosted ==  113) | (bosted == 131) | (bosted == 133) | (bosted == 134) \\n')\n",
    "    f.write('replace bosted = 403 if (bosted == 414) | (bosted ==  401) \\n')\n",
    "    f.write('replace bosted = 906 if (bosted == 903) | (bosted ==  918) | (bosted == 920) | (bosted == 921) | (bosted == 922) \\n')\n",
    "    f.write('replace bosted = 2004 if (bosted == 2001) | (bosted ==  2016)  \\n')\n",
    "    f.write('replace bosted = 716 if (bosted == 718) \\n')\n",
    "    f.write('replace bosted = 1804 if (bosted == 1842) \\n')\n",
    "    f.write('replace bosted = 1576 if (bosted == 1569) | (bosted ==  1572) \\n')\n",
    "    f.write('replace bosted = 1160 if (bosted == 1154) | (bosted ==  1159) \\n')\n",
    "    f.write('replace bosted = 1505 if (bosted == 1503) | (bosted ==  1556) \\n')\n",
    "    f.write('replace bosted = 1756 if (bosted == 1723) | (bosted ==  1729) \\n')\n",
    "    f.write('replace bosted = 1903 if (bosted == 1901) | (bosted ==  1915) \\n')\n",
    "    f.write('replace bosted = 710 if (bosted == 706) | (bosted ==  719) | (bosted ==  720) \\n')\n",
    "    f.write('replace bosted = 1214 if (bosted == 1159) \\n')"
   ]
  },
  {
   "cell_type": "code",
   "execution_count": 8,
   "metadata": {},
   "outputs": [],
   "source": [
    "df = pd.read_csv('regioner_2017.csv',sep=\";\", encoding=\"ISO-8859-1\")\n",
    "# dict som mapper pendle-key til liste med kommuner\n",
    "pendle_dict = {}\n",
    "for key in pd.unique(df.sourceCode):\n",
    "    pendle_dict[key] = list(df['targetCode'][df.sourceCode == key])\n",
    "with open('test.txt', 'a+') as f:\n",
    "    f.write('generate pendle = 0 \\n')\n",
    "    for key in pendle_dict:\n",
    "        f.write(f\"replace pendle = {key} if \")\n",
    "        for item in pendle_dict[key][:-1]:\n",
    "            f.write(f\"(bosted == {item}) | \")\n",
    "        f.write(f\"(bosted == {pendle_dict[key][-1]}) \\n\")\n",
    "    f.write('tabulate pendle \\n')\n",
    "    f.write('regress prosentil_barn c.prosentil_far##i.pendle, noconstant \\n')\n",
    "    f.write('regress prosentil_barn c.prosentil_far##i.pendle if mann == 1, noconstant \\n')\n",
    "    f.write('regress prosentil_barn c.prosentil_far##i.pendle if mann == 0, noconstant \\n')"
   ]
  },
  {
   "cell_type": "markdown",
   "metadata": {},
   "source": [
    "##### kommuner"
   ]
  },
  {
   "cell_type": "code",
   "execution_count": 9,
   "metadata": {},
   "outputs": [],
   "source": [
    "df = pd.read_csv(\"kommune_n.csv\",names=['kode', 'n'], header=None)\n",
    "df['kode'] = [x.split('-')[0] for x in df.kode]\n",
    "df = df[df.n <= 250]\n",
    "\n",
    "string = \"drop if \"\n",
    "for kode in df.kode[:-1]:\n",
    "    string += f'(bosted == {kode}) | '\n",
    "string += f'(bosted == {df.kode.iloc[-1]}) \\n'\n",
    "\n",
    "with open('test.txt','a+') as f:\n",
    "    f.write(string)\n",
    "    f.write('tabulate bosted \\n')\n",
    "    f.write('regress prosentil_barn c.prosentil_far##i.bosted, noconstant \\n')\n",
    "    f.write('regress topp_kvintil i.bosted if kvintil_far == 0, noconstant \\n')"
   ]
  }
 ],
 "metadata": {
  "kernelspec": {
   "display_name": "Python 3",
   "language": "python",
   "name": "python3"
  },
  "language_info": {
   "codemirror_mode": {
    "name": "ipython",
    "version": 3
   },
   "file_extension": ".py",
   "mimetype": "text/x-python",
   "name": "python",
   "nbconvert_exporter": "python",
   "pygments_lexer": "ipython3",
   "version": "3.7.7"
  }
 },
 "nbformat": 4,
 "nbformat_minor": 2
}
