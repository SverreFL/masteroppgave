{
 "cells": [
  {
   "cell_type": "code",
   "execution_count": 1,
   "metadata": {},
   "outputs": [],
   "source": [
    "import pandas as pd\n",
    "import numpy as np"
   ]
  },
  {
   "cell_type": "code",
   "execution_count": 2,
   "metadata": {},
   "outputs": [],
   "source": [
    "# kohort barn\n",
    "b0, b1 = 72, 77\n",
    "\n",
    "# kohort foreldre\n",
    "f0, f1 = 42, 54\n",
    "\n",
    "# ige/rank\n",
    "ige = True"
   ]
  },
  {
   "cell_type": "code",
   "execution_count": 3,
   "metadata": {},
   "outputs": [
    {
     "data": {
      "text/plain": [
       "Unnamed: 0\n",
       "2015    1.000000\n",
       "2014    1.021450\n",
       "2013    1.042753\n",
       "2012    1.064963\n",
       "2011    1.071811\n",
       "Name: Årsgj.snitt, dtype: float64"
      ]
     },
     "execution_count": 3,
     "metadata": {},
     "output_type": "execute_result"
    }
   ],
   "source": [
    "df = pd.read_csv('kpi.csv', header=0, sep=';')\n",
    "kpi = df[df.columns[1]]\n",
    "kpi.index = df[df.columns[0]]\n",
    "kpi = kpi[kpi.index <= 2015]\n",
    "kpi = kpi.str.replace(',','.')\n",
    "kpi = kpi.astype(float)\n",
    "kpi = 100 / kpi\n",
    "kpi.head()"
   ]
  },
  {
   "cell_type": "code",
   "execution_count": 4,
   "metadata": {},
   "outputs": [],
   "source": [
    "with open('test.txt', 'w') as f:\n",
    "    f.write('create-dataset barn \\n')\n",
    "    f.write('import BEFOLKNING_FOEDSELS_AAR_MND as fodmnd \\n')\n",
    "    f.write('generate kohort = int( fodmnd / 100 ) \\n')\n",
    "    f.write(f'drop if kohort < 19{b0} | kohort > 19{b1} \\n')\n",
    "\n",
    "    for år in range(2000, 2015+1):\n",
    "        f.write('import INNTEKT_PGIVINNT '+str(år)+'-01-01 as i'+str(år)[2:]+'\\n')\n",
    "        f.write('generate i'+str(år)[2:]+'ij = i'+str(år)[2:]+'*'+f'{kpi[år]:.4f}\\n')\n",
    "\n",
    "    inntekter = [f'innt{år}' for år in range(28,38+1)]\n",
    "\n",
    "    for inntår in inntekter:\n",
    "        f.write(f'generate {inntår} = 0 \\n')\n",
    "    \n",
    "    for kohort in range(b0, b1+1):\n",
    "        for år in range(28,38+1):\n",
    "            f.write(f'replace innt{år} = i'+str(kohort+år)[1:]+'ij if kohort == 19'+str(kohort)+'\\n')\n",
    "    for år in range(29,37+1):\n",
    "        f.write(f'generate inntekt_barn_{år} = (innt{år-1} + innt{år} + innt{år+1}) / 3 \\n' )\n",
    "    string = 'generate inntekt_barn_3438 = ('\n",
    "    for år in range(34,38):\n",
    "        string += f'innt{år} +'\n",
    "    string += 'innt38)/5 \\n'\n",
    "    f.write(string)\n",
    "    f.write('import BEFOLKNING_FAR_FNR as far_fnr \\n')"
   ]
  },
  {
   "cell_type": "markdown",
   "metadata": {},
   "source": [
    "#####  Fedre"
   ]
  },
  {
   "cell_type": "code",
   "execution_count": 5,
   "metadata": {},
   "outputs": [],
   "source": [
    "with open('test.txt', 'a+') as f:\n",
    "    f.write('create-dataset far \\n')\n",
    "    f.write('import BEFOLKNING_FOEDSELS_AAR_MND as fodmnd \\n')\n",
    "    f.write('generate kohortf = int( fodmnd / 100 ) \\n')\n",
    "    f.write('drop if kohortf > 19'+str(f1)+' \\n')\n",
    "    f.write('drop if kohortf < 19'+str(f0)+' \\n')\n",
    "    \n",
    "    for år in range(1982, 1999+1):\n",
    "        f.write('import INNTEKT_PGIVINNT '+str(år)+'-01-01 as if'+str(år)[2:]+'\\n')\n",
    "        f.write('generate if'+str(år)[2:]+'ij = if'+str(år)[2:]+'*'+f'{kpi[år]:.4f}\\n')\n",
    "    for år in range(2000, 2011+1):\n",
    "        f.write('import INNTEKT_PGIVINNT '+str(år)+'-01-01 as if'+str(år)[2:]+'\\n')\n",
    "        f.write('generate if'+str(år)[2:]+'ij = if'+str(år)[2:]+'*'+f'{kpi[år]:.4f}\\n')\n",
    "        \n",
    "    inntekter = [f'innt{år}' for år in range(40,57+1)]\n",
    "    \n",
    "    for inntår in inntekter:\n",
    "        f.write(f'generate {inntår} = 0 \\n')\n",
    "\n",
    "    for kohort in range(f0, f1+1):\n",
    "        for år in range(40,56+1):\n",
    "            if kohort+år < 100:\n",
    "                f.write(f'replace innt{år} = if'+str(kohort+år)+'ij if kohortf == 19'+str(kohort)+'\\n')\n",
    "            else:\n",
    "                f.write(f'replace innt{år} = if'+str(kohort+år)[1:]+'ij if kohortf == 19'+str(kohort)+'\\n')\n",
    "    \n",
    "    \n",
    "    string_merge = \"merge \"\n",
    "    for år in range(42,55+1,2):\n",
    "        f.write(f'generate inntekt_far_{år} = (innt{år-2} + innt{år-1} + innt{år} + innt{år+1}+ innt{år+2}) / 5 \\n' )\n",
    "        string_merge += f'inntekt_far_{år} '\n",
    "    \n",
    "    \n",
    "    for år in range(41,50+1,2):\n",
    "        string = f'generate inntekt_far_40{år} = ('\n",
    "        for j in range(40,år):\n",
    "            string += f'innt{j} + '\n",
    "        string += f'innt{år})/{år-39} \\n'\n",
    "        f.write(string)\n",
    "        string_merge += f'inntekt_far_40{år} '\n",
    "        \n",
    "        \n",
    "    string_merge += \"into barn on far_fnr \\n\"\n",
    "    f.write(string_merge)"
   ]
  },
  {
   "cell_type": "markdown",
   "metadata": {},
   "source": [
    "##### nasjonal"
   ]
  },
  {
   "cell_type": "code",
   "execution_count": 6,
   "metadata": {},
   "outputs": [],
   "source": [
    "if ige:\n",
    "    with open('test.txt', 'a+') as f:\n",
    "        f.write('use barn \\n')\n",
    "\n",
    "        f.write('generate log_inntekt_barn_29 = ln(inntekt_barn_29) \\n')\n",
    "        f.write('generate log_inntekt_barn_31 = ln(inntekt_barn_31) \\n')\n",
    "        f.write('generate log_inntekt_barn_33 = ln(inntekt_barn_33) \\n')\n",
    "        f.write('generate log_inntekt_barn_35 = ln(inntekt_barn_35) \\n')\n",
    "        f.write('generate log_inntekt_barn_37 = ln(inntekt_barn_37) \\n')\n",
    "        f.write('generate log_inntekt_barn_3438 = ln(inntekt_barn_3438) \\n')\n",
    "        f.write('generate log_inntekt_far_42 = ln(inntekt_far_42) \\n')\n",
    "        f.write('generate log_inntekt_far_44 = ln(inntekt_far_44) \\n')\n",
    "        f.write('generate log_inntekt_far_46 = ln(inntekt_far_46) \\n')\n",
    "        f.write('generate log_inntekt_far_48 = ln(inntekt_far_48) \\n')\n",
    "        f.write('generate log_inntekt_far_50 = ln(inntekt_far_50) \\n')\n",
    "        f.write('generate log_inntekt_far_52 = ln(inntekt_far_52) \\n')\n",
    "        f.write('generate log_inntekt_far_54 = ln(inntekt_far_54) \\n')\n",
    "        f.write('generate log_inntekt_far_4041 = ln(inntekt_far_4041) \\n')\n",
    "        f.write('generate log_inntekt_far_4043 = ln(inntekt_far_4043) \\n')\n",
    "        f.write('generate log_inntekt_far_4045 = ln(inntekt_far_4045) \\n')\n",
    "        f.write('generate log_inntekt_far_4047 = ln(inntekt_far_4047) \\n')\n",
    "        f.write('generate log_inntekt_far_4049 = ln(inntekt_far_4049) \\n')\n",
    "\n",
    "        f.write('regress log_inntekt_barn_29 log_inntekt_far_4049 \\n')\n",
    "        f.write('regress log_inntekt_barn_31 log_inntekt_far_4049 \\n')\n",
    "        f.write('regress log_inntekt_barn_33 log_inntekt_far_4049 \\n')\n",
    "        f.write('regress log_inntekt_barn_35 log_inntekt_far_4049 \\n')\n",
    "        f.write('regress log_inntekt_barn_37 log_inntekt_far_4049 \\n')\n",
    "\n",
    "        f.write('regress log_inntekt_barn_3438 log_inntekt_far_42 \\n')\n",
    "        f.write('regress log_inntekt_barn_3438 log_inntekt_far_44 \\n')\n",
    "        f.write('regress log_inntekt_barn_3438 log_inntekt_far_46 \\n')\n",
    "        f.write('regress log_inntekt_barn_3438 log_inntekt_far_48 \\n')\n",
    "        f.write('regress log_inntekt_barn_3438 log_inntekt_far_50 \\n')\n",
    "        f.write('regress log_inntekt_barn_3438 log_inntekt_far_52 \\n')\n",
    "        f.write('regress log_inntekt_barn_3438 log_inntekt_far_54 \\n')\n",
    "\n",
    "        f.write('regress log_inntekt_barn_3438 log_inntekt_far_4041 \\n')\n",
    "        f.write('regress log_inntekt_barn_3438 log_inntekt_far_4043 \\n')\n",
    "        f.write('regress log_inntekt_barn_3438 log_inntekt_far_4045 \\n')\n",
    "        f.write('regress log_inntekt_barn_3438 log_inntekt_far_4047 \\n')\n",
    "        f.write('regress log_inntekt_barn_3438 log_inntekt_far_4049 \\n')"
   ]
  },
  {
   "cell_type": "code",
   "execution_count": 7,
   "metadata": {},
   "outputs": [],
   "source": [
    "if not ige:\n",
    "    with open('test.txt', 'a+') as f:\n",
    "        f.write('use barn \\n')\n",
    "        f.write('generate prosentil_barn_29 = quantile(inntekt_barn_29,100) \\n')\n",
    "        f.write('generate prosentil_barn_31 = quantile(inntekt_barn_31,100) \\n')\n",
    "        f.write('generate prosentil_barn_33 = quantile(inntekt_barn_33,100) \\n')\n",
    "        f.write('generate prosentil_barn_35 = quantile(inntekt_barn_35,100) \\n')\n",
    "        f.write('generate prosentil_barn_37 = quantile(inntekt_barn_37,100) \\n')\n",
    "        f.write('generate prosentil_barn_3438 = quantile(inntekt_barn_3438,100) \\n')\n",
    "        f.write('generate prosentil_far_42 = quantile(inntekt_far_42,100) \\n')\n",
    "        f.write('generate prosentil_far_44 = quantile(inntekt_far_44,100) \\n')\n",
    "        f.write('generate prosentil_far_46 = quantile(inntekt_far_46,100) \\n')\n",
    "        f.write('generate prosentil_far_48 = quantile(inntekt_far_48,100) \\n')\n",
    "        f.write('generate prosentil_far_50 = quantile(inntekt_far_50,100) \\n')\n",
    "        f.write('generate prosentil_far_52 = quantile(inntekt_far_52,100) \\n')\n",
    "        f.write('generate prosentil_far_54 = quantile(inntekt_far_54,100) \\n')\n",
    "        f.write('generate prosentil_far_4041 = quantile(inntekt_far_4041,100) \\n')\n",
    "        f.write('generate prosentil_far_4043 = quantile(inntekt_far_4043,100) \\n')\n",
    "        f.write('generate prosentil_far_4045 = quantile(inntekt_far_4045,100) \\n')\n",
    "        f.write('generate prosentil_far_4047 = quantile(inntekt_far_4047,100) \\n')\n",
    "        f.write('generate prosentil_far_4049 = quantile(inntekt_far_4049,100) \\n')\n",
    "\n",
    "        f.write('regress prosentil_barn_29 prosentil_far_4049 \\n')\n",
    "        f.write('regress prosentil_barn_31 prosentil_far_4049 \\n')\n",
    "        f.write('regress prosentil_barn_33 prosentil_far_4049 \\n')\n",
    "        f.write('regress prosentil_barn_35 prosentil_far_4049 \\n')\n",
    "        f.write('regress prosentil_barn_37 prosentil_far_4049 \\n')\n",
    "\n",
    "        f.write('regress prosentil_barn_3438 prosentil_far_42 \\n')\n",
    "        f.write('regress prosentil_barn_3438 prosentil_far_44 \\n')\n",
    "        f.write('regress prosentil_barn_3438 prosentil_far_46 \\n')\n",
    "        f.write('regress prosentil_barn_3438 prosentil_far_48 \\n')\n",
    "        f.write('regress prosentil_barn_3438 prosentil_far_50 \\n')\n",
    "        f.write('regress prosentil_barn_3438 prosentil_far_52 \\n')\n",
    "        f.write('regress prosentil_barn_3438 prosentil_far_54 \\n')\n",
    "\n",
    "        f.write('regress prosentil_barn_3438 prosentil_far_4041 \\n')\n",
    "        f.write('regress prosentil_barn_3438 prosentil_far_4043 \\n')\n",
    "        f.write('regress prosentil_barn_3438 prosentil_far_4045 \\n')\n",
    "        f.write('regress prosentil_barn_3438 prosentil_far_4047 \\n')\n",
    "        f.write('regress prosentil_barn_3438 prosentil_far_4049 \\n')"
   ]
  },
  {
   "cell_type": "code",
   "execution_count": null,
   "metadata": {},
   "outputs": [],
   "source": []
  }
 ],
 "metadata": {
  "kernelspec": {
   "display_name": "Python 3",
   "language": "python",
   "name": "python3"
  },
  "language_info": {
   "codemirror_mode": {
    "name": "ipython",
    "version": 3
   },
   "file_extension": ".py",
   "mimetype": "text/x-python",
   "name": "python",
   "nbconvert_exporter": "python",
   "pygments_lexer": "ipython3",
   "version": "3.6.8"
  }
 },
 "nbformat": 4,
 "nbformat_minor": 2
}
