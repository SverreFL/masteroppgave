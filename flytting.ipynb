{
 "cells": [
  {
   "cell_type": "code",
   "execution_count": 1,
   "metadata": {},
   "outputs": [],
   "source": [
    "import pandas as pd\n",
    "import numpy as np"
   ]
  },
  {
   "cell_type": "code",
   "execution_count": 2,
   "metadata": {},
   "outputs": [],
   "source": [
    "b0,b1 = 77,88 # kohort til barn\n",
    "f0, f1 = 40, 63 # kohort til foreldre \n",
    "alder = 27 # alder inntekt til barn blir målt\n",
    "flytte_voksen = False # flytting før 30 hvis voksen, ellers før 18\n",
    "m = 150 #antall kommuner"
   ]
  },
  {
   "cell_type": "code",
   "execution_count": 3,
   "metadata": {},
   "outputs": [],
   "source": [
    "df_ssb = pd.read_csv('ssb_tabell.csv', header=None)\n",
    "df_ssb = df_ssb.iloc[:-1,1:]"
   ]
  },
  {
   "cell_type": "code",
   "execution_count": 4,
   "metadata": {},
   "outputs": [],
   "source": [
    "df = df_ssb.sort_values(by=2, ascending=False)\n",
    "df['region'] = [x.split()[0] for x in df[1]]\n",
    "df.index = range(len(df))\n",
    "df_keep = df[:m]\n",
    "df_drop = df[m:]\n",
    "kommuner = list(pd.to_numeric(df_keep.region))"
   ]
  },
  {
   "cell_type": "code",
   "execution_count": 5,
   "metadata": {},
   "outputs": [
    {
     "data": {
      "text/plain": [
       "Unnamed: 0\n",
       "2015    1.000000\n",
       "2014    1.021450\n",
       "2013    1.042753\n",
       "2012    1.064963\n",
       "2011    1.071811\n",
       "Name: Årsgj.snitt, dtype: float64"
      ]
     },
     "execution_count": 5,
     "metadata": {},
     "output_type": "execute_result"
    }
   ],
   "source": [
    "df = pd.read_csv('kpi.csv', header=0, sep=';')\n",
    "kpi = df[df.columns[1]]\n",
    "kpi.index = df[df.columns[0]]\n",
    "kpi = kpi[kpi.index <= 2015]\n",
    "kpi = kpi.str.replace(',','.')\n",
    "kpi = kpi.astype(float)\n",
    "kpi = 100 / kpi\n",
    "kpi.head()"
   ]
  },
  {
   "cell_type": "markdown",
   "metadata": {},
   "source": [
    "##### nasjonal inntekt"
   ]
  },
  {
   "cell_type": "code",
   "execution_count": 6,
   "metadata": {},
   "outputs": [],
   "source": [
    "with open('flytting.txt', 'w') as f:\n",
    "    f.write('create-dataset flytting \\n')\n",
    "    f.write('import BEFOLKNING_FOEDSELS_AAR_MND as fodmnd \\n')\n",
    "    f.write('generate kohort = int( fodmnd / 100 ) \\n')\n",
    "    f.write(f'drop if (kohort > 19{b1}) | (kohort < 19{b0}) \\n')\n",
    "    f.write('import BEFOLKNING_INNALDER as innalder \\n')\n",
    "    f.write('keep if innalder == 0 \\n')\n",
    "    f.write('generate flyttetidspunkt = 0 \\n')\n",
    "    f.write('generate flytter  = 0 \\n')"
   ]
  },
  {
   "cell_type": "code",
   "execution_count": 7,
   "metadata": {},
   "outputs": [],
   "source": [
    "with open('flytting.txt', 'a') as f:\n",
    "    for år in range(92,99+1):\n",
    "        f.write(f'import BOSATTEFDT_BOSTED 19{år}-01-01 as kommune{år} \\n')\n",
    "        f.write(f'drop if sysmiss(kommune{år}) \\n')\n",
    "        f.write(f'destring kommune{år}, force \\n')\n",
    "    for år in range(0,6+1):\n",
    "        f.write(f'import BOSATTEFDT_BOSTED 200{år}-01-01 as kommune0{år} \\n')\n",
    "        f.write(f'drop if sysmiss(kommune0{år}) \\n')\n",
    "        f.write(f'destring kommune0{år}, force \\n')\n",
    "    if flytte_voksen:\n",
    "        for år in range(7,9+1):\n",
    "            f.write(f'import BOSATTEFDT_BOSTED 200{år}-01-01 as kommune0{år} \\n')\n",
    "            f.write(f'drop if sysmiss(kommune0{år}) \\n')\n",
    "            f.write(f'destring kommune0{år}, force \\n')\n",
    "        for år in range(10,15+1):\n",
    "            f.write(f'import BOSATTEFDT_BOSTED 20{år}-01-01 as kommune{år} \\n')\n",
    "            f.write(f'drop if sysmiss(kommune{år}) \\n')\n",
    "            f.write(f'destring kommune{år}, force \\n')\n",
    "    # fikse for kommunesammenslåinger\n",
    "    for år in range(92,95+1):\n",
    "        f.write(f\"replace kommune{år} = 106 if (kommune{år} == 103) | (kommune{år} == 113) | (kommune{år} == 131) | (kommune{år} ==  133) | (kommune{år} == 134) \\n\")\n",
    "    for år in range(92,99):\n",
    "            f.write(f\"replace kommune{år} = 1804 if (kommune{år} == 1842) \\n\") \n",
    "    for år in range(6+1):\n",
    "            f.write(f\"replace kommune0{år} = 1804 if (kommune0{år} == 1842) \\n\") \n",
    "    if flytte_voksen:\n",
    "        for år in range(92,99):\n",
    "            f.write(f\"replace kommune{år} = 1903 if (kommune{år} == 1901) | (kommune{år} == 1915)\\n\") \n",
    "        for år in range(6+1):\n",
    "            f.write(f\"replace kommune0{år} = 1505 if (kommune0{år} == 1503) | (kommune0{år} == 1556)\\n\") \n",
    "            f.write(f\"replace kommune0{år} = 1903 if (kommune0{år} == 1901) | (kommune0{år} == 1915)\\n\") \n",
    "        for år in range(7,8+1):\n",
    "            f.write(f\"replace kommune0{år} = 1505 if (kommune0{år} == 1503) | (kommune0{år} == 1556)\\n\")\n",
    "            f.write(f\"replace kommune0{år} = 1903 if (kommune0{år} == 1901) | (kommune0{år} == 1915)\\n\") \n",
    "            f.write(f\"replace kommune0{år} = 1804 if (kommune0{år} == 1842) \\n\") \n",
    "        for år in range(9,9+1):\n",
    "            f.write(f\"replace kommune0{år} = 1903 if (kommune0{år} == 1901) | (kommune0{år} == 1915)\\n\")\n",
    "        for år in range(10,13+1):\n",
    "            f.write(f\"replace kommune{år} = 1903 if (kommune{år} == 1901) | (kommune{år} == 1915)\\n\") \n",
    "            "
   ]
  },
  {
   "cell_type": "markdown",
   "metadata": {},
   "source": [
    "##### Inntekt barn"
   ]
  },
  {
   "cell_type": "code",
   "execution_count": 8,
   "metadata": {},
   "outputs": [],
   "source": [
    "with open('flytting.txt', 'a') as f:\n",
    "    for år in range(3,9+1):\n",
    "        f.write('import BEFOLKNING_REGSTAT 200'+str(år)+'-01-01 as regstat0'+str(år)+'\\n')\n",
    "    for år in range(10,15+1):\n",
    "        f.write('import BEFOLKNING_REGSTAT 20'+str(år)+'-01-01 as regstat'+str(år)+'\\n')\n",
    "\n",
    "    for år in range(2003, 2015+1):\n",
    "        f.write('import INNTEKT_WSAMINNT_KORRIGERT '+str(år)+'-01-01 as i'+str(år)[2:]+'\\n')\n",
    "        f.write('replace i'+str(år)[2:] +' = 0 if sysmiss(i'+str(år)[2:]+') \\n')\n",
    "        f.write('generate i'+str(år)[2:]+'ij = i'+str(år)[2:]+'*'+f'{kpi[år]:.4f}\\n')\n",
    "        \n",
    "    for kohort in range(b0, b1+1):\n",
    "        f.write(f\"drop if (regstat{str(kohort+alder)[1:]} != '1') & kohort == {kohort} \\n\")\n",
    "    \n",
    "    f.write(f'generate innt{str(alder)} = 0 \\n')\n",
    "    for kohort in range(b0, b1+1):\n",
    "        f.write(f'replace innt{str(alder)} = i'+str(kohort+alder)[1:]+'ij if kohort == 19'+str(kohort)+'\\n')\n",
    "    \n",
    "    \n",
    "    f.write(f'generate inntekt_barn = innt{str(alder)} \\n')\n",
    "    f.write('import BEFOLKNING_FAR_FNR as far_fnr \\n')"
   ]
  },
  {
   "cell_type": "markdown",
   "metadata": {},
   "source": [
    "##### Inntekt far"
   ]
  },
  {
   "cell_type": "code",
   "execution_count": 9,
   "metadata": {},
   "outputs": [],
   "source": [
    "with open('flytting.txt', 'a') as f:\n",
    "    f.write('create-dataset far \\n')\n",
    "    f.write('import BEFOLKNING_FOEDSELS_AAR_MND as fodmnd \\n')\n",
    "    f.write('generate kohortf = int( fodmnd / 100 ) \\n')\n",
    "    f.write(f'drop if kohortf > 19{f1} | kohortf < 19{f0} \\n')\n",
    "    f.write('import BEFOLKNING_KJOENN as mann \\n')\n",
    "    f.write(\"drop if mann == '2' \\n\")\n",
    "    \n",
    "    for år in range(93,98+1):\n",
    "        f.write('import BEFOLKNING_REGSTAT 19'+str(år)+'-01-01 as regstat'+str(år)+'\\n')\n",
    "    \n",
    "    string = \"drop if \"\n",
    "    for år in range(93,97+1):\n",
    "        string += f\"(regstat{str(år)}!= '1') | \"\n",
    "    string += \"(regstat98 != '1') \\n\"\n",
    "    f.write(string)\n",
    "        \n",
    "    for år in range(1993, 1998+1):\n",
    "        f.write('import INNTEKT_WSAMINNT_KORRIGERT '+str(år)+'-01-01 as if'+str(år)[2:]+'\\n')\n",
    "        f.write('replace if'+str(år)[2:] +' = 0 if sysmiss(if'+str(år)[2:]+') \\n')\n",
    "        f.write('generate if'+str(år)[2:]+'ij = if'+str(år)[2:]+'*'+f'{kpi[år]:.4f}\\n')\n",
    "    f.write('generate inntekt_far = (if93ij + if94ij + if95ij + if96ij + if97ij + if98ij) / 6 \\n')\n",
    "    f.write('replace inntekt_far = 0 if sysmiss(inntekt_far) \\n')\n",
    "    f.write('drop if sysmiss(inntekt_far) | inntekt_far <= 0 \\n')\n",
    "    f.write('generate prosentil_far = quantile(inntekt_far, 100) \\n')\n",
    "    f.write('merge prosentil_far into flytting on far_fnr \\n')\n",
    "    f.write('use flytting \\n')\n",
    "    f.write('drop if sysmiss(prosentil_far) \\n')\n",
    "    f.write('generate prosentil_barn = quantile(inntekt_barn, 100) \\n')"
   ]
  },
  {
   "cell_type": "markdown",
   "metadata": {},
   "source": [
    "##### Flytting"
   ]
  },
  {
   "cell_type": "code",
   "execution_count": 10,
   "metadata": {},
   "outputs": [],
   "source": [
    "with open('flytting.txt', 'a') as f:\n",
    "    string = \"keep if\"\n",
    "    for i in range(len(kommuner)-1):\n",
    "        string += f\" (kommune92 == {kommuner[i]}) |\"\n",
    "    string += f\" (kommune92 == {kommuner[-1]}) \\n\"\n",
    "    f.write(string)   "
   ]
  },
  {
   "cell_type": "code",
   "execution_count": 11,
   "metadata": {},
   "outputs": [],
   "source": [
    "if not flytte_voksen:\n",
    "    with open('flytting.txt', 'a') as f:\n",
    "        f.write('generate destinasjon = 0 \\n')\n",
    "\n",
    "    with open('flytting.txt', 'a') as f:\n",
    "        for år in range(93,99+1):\n",
    "            f.write(f'replace flytter = flytter + 1 if (kommune{år} != kommune{år-1}) & (19{år} - kohort <= 18) \\n')\n",
    "            f.write(f'replace destinasjon = kommune{år} if (flytter == 1)  & (19{år} - kohort == 18) \\n') \n",
    "            f.write(f'replace flyttetidspunkt = {1900+år-1} if (kommune{år} != kommune{år-1})  & (flytter == 1) & (19{år} - kohort <= 18) \\n')      \n",
    "\n",
    "    # håndtere 00\n",
    "    with open('flytting.txt', 'a') as f:\n",
    "        f.write('replace flytter = flytter + 1 if (kommune00 != kommune99) & (2000 - kohort <= 18) \\n')\n",
    "        f.write(f'replace destinasjon = kommune00 if (flytter == 1) & (2000 - kohort == 18) \\n') \n",
    "        f.write('replace flyttetidspunkt = 1999 if (kommune00 != kommune99) & (flytter == 1) & (2000 - kohort <= 18) \\n')\n",
    "    with open('flytting.txt', 'a') as f:\n",
    "        for år in range(1,6+1):\n",
    "            f.write(f'replace flytter = flytter + 1 if (kommune0{år} != kommune0{år-1}) & (200{år} - kohort <= 18) \\n')\n",
    "            f.write(f'replace destinasjon = kommune0{år} if (flytter == 1) & (200{år} - kohort == 18)\\n') \n",
    "            f.write(f'replace flyttetidspunkt = {2000+år-1} if (kommune0{år} != kommune0{år-1}) & (flytter == 1) & (200{år} - kohort <= 18) \\n')"
   ]
  },
  {
   "cell_type": "code",
   "execution_count": 12,
   "metadata": {},
   "outputs": [],
   "source": [
    "if flytte_voksen:\n",
    "    with open('flytting.txt', 'a') as f:\n",
    "        f.write('generate destinasjon = 0 \\n')\n",
    "\n",
    "    with open('flytting.txt', 'a') as f:\n",
    "        for år in range(93,99+1):\n",
    "            f.write(f'replace flytter = flytter + 1 if (kommune{år} != kommune{år-1}) & (19{år} - kohort <= 30) \\n')\n",
    "            f.write(f'replace destinasjon = kommune{år} if (flytter == 1) & (19{år} - kohort == 30) \\n') \n",
    "            f.write(f'replace flyttetidspunkt = {1900+år-1} if (kommune{år} != kommune{år-1})  & (flytter == 1) & (19{år} - kohort <= 30) \\n')      \n",
    "\n",
    "    # håndtere 00\n",
    "    with open('flytting.txt', 'a') as f:\n",
    "        f.write('replace flytter = flytter + 1 if (kommune00 != kommune99) & (2000 - kohort <= 30) \\n')\n",
    "        f.write(f'replace destinasjon = kommune00 if (flytter == 1) & (2000 - kohort == 30) \\n') \n",
    "        f.write('replace flyttetidspunkt = 1999 if (kommune00 != kommune99) & (flytter == 1) & (2000 - kohort <= 30) \\n')\n",
    "    with open('flytting.txt', 'a') as f:\n",
    "        for år in range(1,9+1):\n",
    "            f.write(f'replace flytter = flytter + 1 if (kommune0{år} != kommune0{år-1}) & (200{år} - kohort <= 30) \\n')\n",
    "            f.write(f'replace destinasjon = kommune0{år} if (flytter == 1) & (200{år} - kohort == 30) \\n') \n",
    "            f.write(f'replace flyttetidspunkt = {2000+år-1} if (kommune0{år} != kommune0{år-1}) & (flytter == 1) & (200{år} - kohort <= 30) \\n')\n",
    "    # håndtere 10\n",
    "    with open('flytting.txt', 'a') as f:\n",
    "        f.write('replace flytter = flytter + 1 if (kommune10 != kommune09) & (2010 - kohort <= 30) \\n')\n",
    "        f.write(f'replace destinasjon = kommune10 if (flytter == 1) & (2010 - kohort == 30) \\n') \n",
    "        f.write('replace flyttetidspunkt = 2009 if (kommune10 != kommune09) & (flytter == 1) & (2010 - kohort <= 30) \\n')\n",
    "    with open('flytting.txt', 'a') as f:\n",
    "        for år in range(11,15+1):\n",
    "            f.write(f'replace flytter = flytter + 1 if (kommune{år} != kommune{år-1}) & (20{år} - kohort <= 30) \\n')\n",
    "            f.write(f'replace destinasjon = kommune{år} if (flytter == 1) & (20{år} - kohort == 30) \\n') \n",
    "            f.write(f'replace flyttetidspunkt = {2000+år-1} if (kommune{år} != kommune{år-1}) & (flytter == 1) & (20{år} - kohort <= 30) \\n')\n",
    "        f.write('tabulate kommune04 \\n')"
   ]
  },
  {
   "cell_type": "code",
   "execution_count": 13,
   "metadata": {},
   "outputs": [],
   "source": [
    "# IKKE KJØR PÅ FØRSTE\n",
    "with open('flytting.txt', 'a') as f:\n",
    "    string = \"keep if\"\n",
    "    for i in range(len(kommuner)-1):\n",
    "        string += f\" (destinasjon == {kommuner[i]}) |\"\n",
    "    string += f\" (destinasjon == {kommuner[-1]}) \\n\"\n",
    "    f.write(string)"
   ]
  },
  {
   "cell_type": "code",
   "execution_count": 14,
   "metadata": {},
   "outputs": [],
   "source": [
    "with open('flytting.txt', 'a') as f:\n",
    "    f.write('generate flyttealder = flyttetidspunkt-kohort if flytter == 1 \\n')\n",
    "    f.write('tabulate flytter \\n')\n",
    "    f.write('tabulate flyttealder \\n')"
   ]
  },
  {
   "cell_type": "markdown",
   "metadata": {},
   "source": [
    "##### Lage delta"
   ]
  },
  {
   "cell_type": "raw",
   "metadata": {},
   "source": [
    "# BARE KJØR PÅ FØRSTE\n",
    "with open('flytting.txt', 'a') as f:\n",
    "    f.write('keep if flytter == 0 \\n')\n",
    "    f.write('tabulate kommune92 \\n')\n",
    "    f.write('regress prosentil_barn c.prosentil_far##i.kommune92, noconstant \\n')"
   ]
  },
  {
   "cell_type": "code",
   "execution_count": 15,
   "metadata": {},
   "outputs": [],
   "source": [
    "x = 'v' if flytte_voksen else 'b'\n",
    "df = pd.read_csv(f'df_{x}_{alder}.csv',index_col=0)"
   ]
  },
  {
   "cell_type": "code",
   "execution_count": 16,
   "metadata": {},
   "outputs": [],
   "source": [
    "koef_dict = {}\n",
    "for key in kommuner:\n",
    "    try:\n",
    "        koef_dict[key] = [x for x in df.loc[key]]\n",
    "    except:\n",
    "        pass"
   ]
  },
  {
   "cell_type": "code",
   "execution_count": 17,
   "metadata": {},
   "outputs": [],
   "source": [
    "with open('flytting.txt', 'a') as f:\n",
    "    f.write('keep if flytter == 1 \\n')\n",
    "\n",
    "    f.write('generate y_po = 99 \\n')\n",
    "    f.write('generate y_pd = 99 \\n')\n",
    "    \n",
    "    for key in koef_dict:\n",
    "        f.write(f'replace y_po = {koef_dict[key][0]:.4f} + {koef_dict[key][1]:.4f} * prosentil_far if kommune92 == {key} \\n')\n",
    "        f.write(f'replace y_pd = {koef_dict[key][0]:.4f} + {koef_dict[key][1]:.4f} * prosentil_far if destinasjon == {key} \\n')\n",
    "    f.write('drop if y_po == 99 \\n')\n",
    "    f.write('drop if y_pd == 99 \\n')\n",
    "    f.write('generate delta = y_pd-y_po \\n')"
   ]
  },
  {
   "cell_type": "code",
   "execution_count": 18,
   "metadata": {},
   "outputs": [],
   "source": [
    "with open('flytting.txt', 'a') as f:\n",
    "    f.write('tabulate flyttealder \\n')\n",
    "    f.write('tabulate kommune92 \\n')\n",
    "    f.write('tabulate destinasjon \\n')\n",
    "    \n",
    "    f.write('histogram delta \\n')\n",
    "\n",
    "    f.write('tabulate kommune92, summarize(delta) \\n')\n",
    "    f.write('tabulate destinasjon, summarize(delta) \\n')\n",
    "    \n",
    "    f.write('regress prosentil_barn y_po i.flyttealder#c.delta c.prosentil_far#i.flyttealder i.flyttealder \\n')\n",
    "    f.write('regress prosentil_barn y_po i.flyttealder#c.delta c.prosentil_far#i.flyttealder delta i.flyttealder \\n')\n",
    "    \n",
    "    f.write('generate diff18 = 18-flyttealder \\n')\n",
    "    \n",
    "    f.write('regress prosentil_barn y_po c.diff18#c.delta c.prosentil_far#i.flyttealder i.flyttealder \\n')\n",
    "    f.write('regress prosentil_barn y_po c.diff18#c.delta delta c.prosentil_far#i.flyttealder i.flyttealder \\n')\n",
    "    f.write('regress prosentil_barn y_po c.diff18#c.delta delta c.prosentil_far#i.flyttealder i.flyttealder, noconstant \\n') "
   ]
  },
  {
   "cell_type": "code",
   "execution_count": 19,
   "metadata": {},
   "outputs": [],
   "source": [
    "with open('flytting.txt', 'a') as f:\n",
    "    f.write('generate diff_delta = diff18*delta \\n')\n",
    "    \n",
    "    f.write('clone-dataset flytting flytting1 \\n')\n",
    "    f.write('use flytting1 \\n')\n",
    "    f.write('collapse (mean) diff_delta, by(far_fnr) \\n')\n",
    "    f.write('rename diff_delta diff_delta_snitt \\n')\n",
    "    f.write('merge diff_delta_snitt into flytting on far_fnr \\n')\n",
    "    f.write('use flytting \\n')\n",
    "    f.write('generate diff_delta_avvik = diff_delta - diff_delta_snitt \\n')\n",
    "    \n",
    "    f.write('clone-dataset flytting flytting2 \\n')\n",
    "    f.write('use flytting2 \\n')\n",
    "    f.write('collapse (mean) prosentil_barn, by(far_fnr) \\n')\n",
    "    f.write('rename prosentil_barn prosentil_snitt \\n')\n",
    "    f.write('merge prosentil_snitt into flytting on far_fnr \\n')\n",
    "    f.write('use flytting \\n')\n",
    "    f.write('generate prosentil_avvik = prosentil_barn - prosentil_snitt \\n')\n",
    "    \n",
    "    f.write('clone-dataset flytting flytting3 \\n')\n",
    "    f.write('use flytting3 \\n')\n",
    "    f.write('collapse (mean) flyttealder, by(far_fnr) \\n')\n",
    "    f.write('rename flyttealder flyttealder_snitt \\n')\n",
    "    f.write('merge flyttealder_snitt into flytting on far_fnr \\n')\n",
    "    f.write('use flytting \\n')\n",
    "    f.write('generate flyttealder_avvik = flyttealder-flyttealder_snitt \\n')\n",
    "    f.write('regress prosentil_avvik diff_delta_avvik if diff_delta_avvik != 0 & prosentil_avvik != 0 \\n')\n",
    "    f.write('regress prosentil_avvik diff_delta_avvik flyttealder_avvik if diff_delta_avvik != 0 & prosentil_avvik != 0 \\n')\n",
    "    f.write('regress prosentil_avvik diff_delta_avvik if diff_delta_avvik != 0 & prosentil_avvik != 0, noconstant \\n')"
   ]
  }
 ],
 "metadata": {
  "kernelspec": {
   "display_name": "Python 3",
   "language": "python",
   "name": "python3"
  },
  "language_info": {
   "codemirror_mode": {
    "name": "ipython",
    "version": 3
   },
   "file_extension": ".py",
   "mimetype": "text/x-python",
   "name": "python",
   "nbconvert_exporter": "python",
   "pygments_lexer": "ipython3",
   "version": "3.6.8"
  }
 },
 "nbformat": 4,
 "nbformat_minor": 2
}
